{
 "metadata": {
  "language_info": {
   "codemirror_mode": {
    "name": "ipython",
    "version": 3
   },
   "file_extension": ".py",
   "mimetype": "text/x-python",
   "name": "python",
   "nbconvert_exporter": "python",
   "pygments_lexer": "ipython3",
   "version": "3.9.1-final"
  },
  "orig_nbformat": 2,
  "kernelspec": {
   "name": "python3",
   "display_name": "Python 3",
   "language": "python"
  }
 },
 "nbformat": 4,
 "nbformat_minor": 2,
 "cells": [
  {
   "source": [
    "# Finding words from Scrabble dictionary"
   ],
   "cell_type": "markdown",
   "metadata": {}
  },
  {
   "cell_type": "code",
   "execution_count": 3,
   "metadata": {},
   "outputs": [],
   "source": [
    "import pandas\n",
    "from pandas import DataFrame"
   ]
  },
  {
   "cell_type": "code",
   "execution_count": 12,
   "metadata": {},
   "outputs": [
    {
     "output_type": "execute_result",
     "data": {
      "text/plain": [
       "                 0\n",
       "0                a\n",
       "1               ab\n",
       "2            abaca\n",
       "3          abacaen\n",
       "4         abacaene\n",
       "...            ...\n",
       "768312  åvoksteren\n",
       "768313  åvoksterne\n",
       "768314    åvokstre\n",
       "768315  åvokstrene\n",
       "768316   åvokstrer\n",
       "\n",
       "[768317 rows x 1 columns]"
      ],
      "text/html": "<div>\n<style scoped>\n    .dataframe tbody tr th:only-of-type {\n        vertical-align: middle;\n    }\n\n    .dataframe tbody tr th {\n        vertical-align: top;\n    }\n\n    .dataframe thead th {\n        text-align: right;\n    }\n</style>\n<table border=\"1\" class=\"dataframe\">\n  <thead>\n    <tr style=\"text-align: right;\">\n      <th></th>\n      <th>0</th>\n    </tr>\n  </thead>\n  <tbody>\n    <tr>\n      <th>0</th>\n      <td>a</td>\n    </tr>\n    <tr>\n      <th>1</th>\n      <td>ab</td>\n    </tr>\n    <tr>\n      <th>2</th>\n      <td>abaca</td>\n    </tr>\n    <tr>\n      <th>3</th>\n      <td>abacaen</td>\n    </tr>\n    <tr>\n      <th>4</th>\n      <td>abacaene</td>\n    </tr>\n    <tr>\n      <th>...</th>\n      <td>...</td>\n    </tr>\n    <tr>\n      <th>768312</th>\n      <td>åvoksteren</td>\n    </tr>\n    <tr>\n      <th>768313</th>\n      <td>åvoksterne</td>\n    </tr>\n    <tr>\n      <th>768314</th>\n      <td>åvokstre</td>\n    </tr>\n    <tr>\n      <th>768315</th>\n      <td>åvokstrene</td>\n    </tr>\n    <tr>\n      <th>768316</th>\n      <td>åvokstrer</td>\n    </tr>\n  </tbody>\n</table>\n<p>768317 rows × 1 columns</p>\n</div>"
     },
     "metadata": {},
     "execution_count": 12
    }
   ],
   "source": [
    "data: DataFrame = pandas.read_csv(\"nsf2020.txt\", header=None)\n",
    "data"
   ]
  },
  {
   "cell_type": "code",
   "execution_count": 13,
   "metadata": {},
   "outputs": [
    {
     "output_type": "execute_result",
     "data": {
      "text/plain": [
       "                      0\n",
       "405900        mantraene\n",
       "305077        kalvenyre\n",
       "84853       byggelinjer\n",
       "420394  militærjuntaene\n",
       "535642         rothugde\n",
       "...                 ...\n",
       "54339        bevirkinga\n",
       "31285         avnorsker\n",
       "354051   kroppskontroll\n",
       "126788         eloksere\n",
       "92352      cruisebåtene\n",
       "\n",
       "[3000 rows x 1 columns]"
      ],
      "text/html": "<div>\n<style scoped>\n    .dataframe tbody tr th:only-of-type {\n        vertical-align: middle;\n    }\n\n    .dataframe tbody tr th {\n        vertical-align: top;\n    }\n\n    .dataframe thead th {\n        text-align: right;\n    }\n</style>\n<table border=\"1\" class=\"dataframe\">\n  <thead>\n    <tr style=\"text-align: right;\">\n      <th></th>\n      <th>0</th>\n    </tr>\n  </thead>\n  <tbody>\n    <tr>\n      <th>405900</th>\n      <td>mantraene</td>\n    </tr>\n    <tr>\n      <th>305077</th>\n      <td>kalvenyre</td>\n    </tr>\n    <tr>\n      <th>84853</th>\n      <td>byggelinjer</td>\n    </tr>\n    <tr>\n      <th>420394</th>\n      <td>militærjuntaene</td>\n    </tr>\n    <tr>\n      <th>535642</th>\n      <td>rothugde</td>\n    </tr>\n    <tr>\n      <th>...</th>\n      <td>...</td>\n    </tr>\n    <tr>\n      <th>54339</th>\n      <td>bevirkinga</td>\n    </tr>\n    <tr>\n      <th>31285</th>\n      <td>avnorsker</td>\n    </tr>\n    <tr>\n      <th>354051</th>\n      <td>kroppskontroll</td>\n    </tr>\n    <tr>\n      <th>126788</th>\n      <td>eloksere</td>\n    </tr>\n    <tr>\n      <th>92352</th>\n      <td>cruisebåtene</td>\n    </tr>\n  </tbody>\n</table>\n<p>3000 rows × 1 columns</p>\n</div>"
     },
     "metadata": {},
     "execution_count": 13
    }
   ],
   "source": [
    "seed = 86593134\n",
    "\n",
    "sampled_data: DataFrame = data.sample(n=3000)\n",
    "sampled_data"
   ]
  },
  {
   "cell_type": "code",
   "execution_count": 20,
   "metadata": {},
   "outputs": [],
   "source": [
    "sampled_data.to_csv(f\"./out/words_{seed}.txt\", sep=\" \", index=False, header=False)"
   ]
  }
 ]
}