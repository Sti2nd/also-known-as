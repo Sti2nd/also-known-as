{
 "metadata": {
  "language_info": {
   "codemirror_mode": {
    "name": "ipython",
    "version": 3
   },
   "file_extension": ".py",
   "mimetype": "text/x-python",
   "name": "python",
   "nbconvert_exporter": "python",
   "pygments_lexer": "ipython3",
   "version": "3.9.1-final"
  },
  "orig_nbformat": 2,
  "kernelspec": {
   "name": "python3",
   "display_name": "Python 3",
   "language": "python"
  }
 },
 "nbformat": 4,
 "nbformat_minor": 2,
 "cells": [
  {
   "source": [
    "# Mining words from Wikipedia"
   ],
   "cell_type": "markdown",
   "metadata": {}
  },
  {
   "cell_type": "code",
   "execution_count": 1,
   "metadata": {},
   "outputs": [],
   "source": [
    "from pyspark.sql import SparkSession\n",
    "\n",
    "spark = SparkSession \\\n",
    "    .builder \\\n",
    "    .appName(\"Analysing Wikipedia\") \\\n",
    "    .getOrCreate()"
   ]
  },
  {
   "cell_type": "code",
   "execution_count": 2,
   "metadata": {},
   "outputs": [],
   "source": [
    "df = spark.read.json(\"./nowiki-20210111-cirrussearch-general.json\")"
   ]
  },
  {
   "source": [
    "## Cleaning the dataset"
   ],
   "cell_type": "markdown",
   "metadata": {}
  },
  {
   "source": [
    "Looking at the schema just to explore the dataset. Found [a description of the JSON dump format on Wikipedia](https://meta.wikimedia.org/wiki/Data_dumps/Misc_dumps_format)"
   ],
   "cell_type": "markdown",
   "metadata": {}
  },
  {
   "cell_type": "code",
   "execution_count": 7,
   "metadata": {},
   "outputs": [
    {
     "output_type": "stream",
     "name": "stdout",
     "text": [
      "root\n |-- auxiliary_text: array (nullable = true)\n |    |-- element: string (containsNull = true)\n |-- category: array (nullable = true)\n |    |-- element: string (containsNull = true)\n |-- content_model: string (nullable = true)\n |-- coordinates: array (nullable = true)\n |    |-- element: struct (containsNull = true)\n |    |    |-- coord: struct (nullable = true)\n |    |    |    |-- lat: double (nullable = true)\n |    |    |    |-- lon: double (nullable = true)\n |    |    |-- country: string (nullable = true)\n |    |    |-- dim: long (nullable = true)\n |    |    |-- globe: string (nullable = true)\n |    |    |-- name: string (nullable = true)\n |    |    |-- primary: boolean (nullable = true)\n |    |    |-- region: string (nullable = true)\n |    |    |-- type: string (nullable = true)\n |-- create_timestamp: string (nullable = true)\n |-- defaultsort: string (nullable = true)\n |-- display_title: string (nullable = true)\n |-- external_link: array (nullable = true)\n |    |-- element: string (containsNull = true)\n |-- file_bits: long (nullable = true)\n |-- file_height: long (nullable = true)\n |-- file_media_type: string (nullable = true)\n |-- file_mime: string (nullable = true)\n |-- file_resolution: long (nullable = true)\n |-- file_size: long (nullable = true)\n |-- file_text: string (nullable = true)\n |-- file_width: long (nullable = true)\n |-- heading: array (nullable = true)\n |    |-- element: string (containsNull = true)\n |-- incoming_links: long (nullable = true)\n |-- index: struct (nullable = true)\n |    |-- _id: string (nullable = true)\n |    |-- _type: string (nullable = true)\n |-- language: string (nullable = true)\n |-- namespace: long (nullable = true)\n |-- namespace_text: string (nullable = true)\n |-- opening_text: string (nullable = true)\n |-- ores_articletopic: array (nullable = true)\n |    |-- element: string (containsNull = true)\n |-- ores_articletopics: array (nullable = true)\n |    |-- element: string (containsNull = true)\n |-- outgoing_link: array (nullable = true)\n |    |-- element: string (containsNull = true)\n |-- redirect: array (nullable = true)\n |    |-- element: struct (containsNull = true)\n |    |    |-- namespace: long (nullable = true)\n |    |    |-- title: string (nullable = true)\n |-- source_text: string (nullable = true)\n |-- template: array (nullable = true)\n |    |-- element: string (containsNull = true)\n |-- text: string (nullable = true)\n |-- text_bytes: long (nullable = true)\n |-- timestamp: string (nullable = true)\n |-- title: string (nullable = true)\n |-- version: long (nullable = true)\n |-- version_type: string (nullable = true)\n |-- wiki: string (nullable = true)\n |-- wikibase_item: string (nullable = true)\n\n"
     ]
    }
   ],
   "source": [
    "df.printSchema()"
   ]
  },
  {
   "source": [
    "### Find columns to filter on"
   ],
   "cell_type": "markdown",
   "metadata": {}
  },
  {
   "cell_type": "code",
   "execution_count": 23,
   "metadata": {},
   "outputs": [
    {
     "output_type": "stream",
     "name": "stdout",
     "text": [
      "+-------------+\n|content_model|\n+-------------+\n|   flow-board|\n|    Scribunto|\n|         null|\n|         json|\n|sanitized-css|\n|     wikitext|\n|   javascript|\n|          css|\n+-------------+\n\n"
     ]
    }
   ],
   "source": [
    "# We are only interested in \"wikitext\"\n",
    "df.select(\"content_model\").distinct().show()"
   ]
  },
  {
   "cell_type": "code",
   "execution_count": 26,
   "metadata": {},
   "outputs": [
    {
     "output_type": "stream",
     "name": "stdout",
     "text": [
      "+--------+\n|language|\n+--------+\n|      en|\n|      nb|\n|    null|\n|      de|\n|      nn|\n|      sv|\n|      nl|\n|      se|\n|      da|\n+--------+\n\n"
     ]
    }
   ],
   "source": [
    "# We are only interested in nb\n",
    "df.select(\"language\").distinct().show()"
   ]
  },
  {
   "cell_type": "code",
   "execution_count": 35,
   "metadata": {},
   "outputs": [
    {
     "output_type": "stream",
     "name": "stdout",
     "text": [
      "+--------------------+\n|             heading|\n+--------------------+\n|                null|\n|                  []|\n|                null|\n|                  []|\n|                null|\n|                  []|\n|                null|\n|[Endret eksterne ...|\n|                null|\n|                  []|\n|                null|\n|                  []|\n|                null|\n|                  []|\n|                null|\n|        [Velkommen!]|\n|                null|\n|                  []|\n|                null|\n|[Endret eksterne ...|\n+--------------------+\nonly showing top 20 rows\n\n"
     ]
    }
   ],
   "source": [
    "df.select(\"heading\").show()"
   ]
  },
  {
   "cell_type": "code",
   "execution_count": 32,
   "metadata": {},
   "outputs": [],
   "source": [
    "filtered_df = df.filter( \\\n",
    "    (df[\"content_model\"] == \"wikitext\") & \\\n",
    "    (df[\"language\"] == \"nb\"))"
   ]
  },
  {
   "cell_type": "code",
   "execution_count": 20,
   "metadata": {},
   "outputs": [
    {
     "output_type": "stream",
     "name": "stdout",
     "text": [
      "+--------------------+\n|               title|\n+--------------------+\n|    Franske musikere|\n|          Hvalfisken|\n|     Greske gudinner|\n|    Gomez' hamburger|\n|Greske mytologisk...|\n|           Slørtåken|\n|Personer fra Hama...|\n|           Fisflicka|\n| Personer fra Aomori|\n|          Nya Varvet|\n|Bidrag til Eurovi...|\n|        Wasim~nowiki|\n| Grever av Barcelona|\n|Hans Hansen Grime...|\n| Fotballag i Kamerun|\n|Barclay James Har...|\n|           Databaser|\n|Bodø/Utvalgt bodø...|\n|     Pasiphaëgruppen|\n|        31.45.40.230|\n+--------------------+\nonly showing top 20 rows\n\n"
     ]
    }
   ],
   "source": [
    "filtered_df.select(\"title\").show(truncate=False)"
   ]
  }
 ]
}