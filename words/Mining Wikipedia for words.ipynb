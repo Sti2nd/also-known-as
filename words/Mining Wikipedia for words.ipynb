{
 "metadata": {
  "language_info": {
   "codemirror_mode": {
    "name": "ipython",
    "version": 3
   },
   "file_extension": ".py",
   "mimetype": "text/x-python",
   "name": "python",
   "nbconvert_exporter": "python",
   "pygments_lexer": "ipython3",
   "version": "3.9.1-final"
  },
  "orig_nbformat": 2,
  "kernelspec": {
   "name": "python3",
   "display_name": "Python 3",
   "language": "python"
  }
 },
 "nbformat": 4,
 "nbformat_minor": 2,
 "cells": [
  {
   "source": [
    "# Mining words from Wikipedia"
   ],
   "cell_type": "markdown",
   "metadata": {}
  },
  {
   "cell_type": "code",
   "execution_count": 11,
   "metadata": {},
   "outputs": [],
   "source": [
    "from pyspark.sql import SparkSession\n",
    "from pyspark.sql.functions import array_contains\n",
    "\n",
    "spark = SparkSession \\\n",
    "    .builder \\\n",
    "    .appName(\"Analysing Wikipedia\") \\\n",
    "    .getOrCreate()"
   ]
  },
  {
   "cell_type": "code",
   "execution_count": 3,
   "metadata": {},
   "outputs": [],
   "source": [
    "df = spark.read.json(\"./nowiki-20210111-cirrussearch-general.json\")"
   ]
  },
  {
   "source": [
    "## Cleaning the dataset"
   ],
   "cell_type": "markdown",
   "metadata": {}
  },
  {
   "source": [
    "Looking at the schema just to explore the dataset. Found [a description of the JSON dump format on Wikipedia](https://meta.wikimedia.org/wiki/Data_dumps/Misc_dumps_format)"
   ],
   "cell_type": "markdown",
   "metadata": {}
  },
  {
   "cell_type": "code",
   "execution_count": 4,
   "metadata": {},
   "outputs": [
    {
     "output_type": "stream",
     "name": "stdout",
     "text": [
      "root\n |-- auxiliary_text: array (nullable = true)\n |    |-- element: string (containsNull = true)\n |-- category: array (nullable = true)\n |    |-- element: string (containsNull = true)\n |-- content_model: string (nullable = true)\n |-- coordinates: array (nullable = true)\n |    |-- element: struct (containsNull = true)\n |    |    |-- coord: struct (nullable = true)\n |    |    |    |-- lat: double (nullable = true)\n |    |    |    |-- lon: double (nullable = true)\n |    |    |-- country: string (nullable = true)\n |    |    |-- dim: long (nullable = true)\n |    |    |-- globe: string (nullable = true)\n |    |    |-- name: string (nullable = true)\n |    |    |-- primary: boolean (nullable = true)\n |    |    |-- region: string (nullable = true)\n |    |    |-- type: string (nullable = true)\n |-- create_timestamp: string (nullable = true)\n |-- defaultsort: string (nullable = true)\n |-- display_title: string (nullable = true)\n |-- external_link: array (nullable = true)\n |    |-- element: string (containsNull = true)\n |-- file_bits: long (nullable = true)\n |-- file_height: long (nullable = true)\n |-- file_media_type: string (nullable = true)\n |-- file_mime: string (nullable = true)\n |-- file_resolution: long (nullable = true)\n |-- file_size: long (nullable = true)\n |-- file_text: string (nullable = true)\n |-- file_width: long (nullable = true)\n |-- heading: array (nullable = true)\n |    |-- element: string (containsNull = true)\n |-- incoming_links: long (nullable = true)\n |-- index: struct (nullable = true)\n |    |-- _id: string (nullable = true)\n |    |-- _type: string (nullable = true)\n |-- language: string (nullable = true)\n |-- namespace: long (nullable = true)\n |-- namespace_text: string (nullable = true)\n |-- opening_text: string (nullable = true)\n |-- ores_articletopic: array (nullable = true)\n |    |-- element: string (containsNull = true)\n |-- ores_articletopics: array (nullable = true)\n |    |-- element: string (containsNull = true)\n |-- outgoing_link: array (nullable = true)\n |    |-- element: string (containsNull = true)\n |-- redirect: array (nullable = true)\n |    |-- element: struct (containsNull = true)\n |    |    |-- namespace: long (nullable = true)\n |    |    |-- title: string (nullable = true)\n |-- source_text: string (nullable = true)\n |-- template: array (nullable = true)\n |    |-- element: string (containsNull = true)\n |-- text: string (nullable = true)\n |-- text_bytes: long (nullable = true)\n |-- timestamp: string (nullable = true)\n |-- title: string (nullable = true)\n |-- version: long (nullable = true)\n |-- version_type: string (nullable = true)\n |-- wiki: string (nullable = true)\n |-- wikibase_item: string (nullable = true)\n\n"
     ]
    }
   ],
   "source": [
    "df.printSchema()"
   ]
  },
  {
   "source": [
    "### Find columns to filter on"
   ],
   "cell_type": "markdown",
   "metadata": {}
  },
  {
   "cell_type": "code",
   "execution_count": 5,
   "metadata": {},
   "outputs": [
    {
     "output_type": "stream",
     "name": "stdout",
     "text": [
      "+-------------+\n|content_model|\n+-------------+\n|   flow-board|\n|    Scribunto|\n|         null|\n|         json|\n|sanitized-css|\n|     wikitext|\n|   javascript|\n|          css|\n+-------------+\n\n"
     ]
    }
   ],
   "source": [
    "# We are only interested in \"wikitext\"\n",
    "df.select(\"content_model\").distinct().show()"
   ]
  },
  {
   "cell_type": "code",
   "execution_count": 6,
   "metadata": {},
   "outputs": [
    {
     "output_type": "stream",
     "name": "stdout",
     "text": [
      "+--------+\n|language|\n+--------+\n|      en|\n|      nb|\n|    null|\n|      de|\n|      nn|\n|      sv|\n|      nl|\n|      se|\n|      da|\n+--------+\n\n"
     ]
    }
   ],
   "source": [
    "# We are only interested in nb\n",
    "df.select(\"language\").distinct().show()"
   ]
  },
  {
   "cell_type": "code",
   "execution_count": 27,
   "metadata": {},
   "outputs": [
    {
     "output_type": "stream",
     "name": "stdout",
     "text": [
      "+-------------------+\n|     namespace_text|\n+-------------------+\n|Wikipedia-diskusjon|\n|    Brukerdiskusjon|\n|               null|\n|                Mal|\n|       Fildiskusjon|\n|MediaWiki-diskusjon|\n|          Wikipedia|\n|             Bruker|\n|  Kategoridiskusjon|\n|                Sak|\n|          MediaWiki|\n|    Portaldiskusjon|\n|     Moduldiskusjon|\n|          Diskusjon|\n|       Maldiskusjon|\n|           Kategori|\n|     Hjelpdiskusjon|\n|                Fil|\n|              Modul|\n|             Portal|\n|              Hjelp|\n+-------------------+\n\n"
     ]
    }
   ],
   "source": [
    "# About namespaces https://en.wikipedia.org/wiki/Wikipedia:Namespace\n",
    "# Articles have no namespace (no prefix), so we are interested in \"null\"\n",
    "df.select(\"namespace_text\").distinct().show(21)"
   ]
  },
  {
   "cell_type": "code",
   "execution_count": 49,
   "metadata": {},
   "outputs": [],
   "source": [
    "filtered_df = df.filter( \\\n",
    "    # (df[\"content_model\"] == \"wikitext\") & \\\n",
    "    # (df[\"language\"] == \"nb\") & \\\n",
    "    (df[\"namespace_text\"].isNull())) \\\n",
    "    .drop(\"content_model\", \"language\", \"category\", \"coordinates\", \"defaultsort\", \\\n",
    "        \"external_link\", \"heading\", \"incoming_links\", \"namespace\", \"namespace_text\", \\\n",
    "        \"outgoing_link\", \"redirect\", \"text_bytes\", \"template\", \"wiki\", \\\n",
    "        \"wikibase_item\", \"version_type\", \"file_bits\", \"file_height\", \"file_media_type\", \\\n",
    "        \"file_resolution\", \"file_size\", \"file_text\", \"file_width\", \"index\", \\\n",
    "        \"file_mime\", \"ores_articletopic\", \"ores_articletopics\")"
   ]
  },
  {
   "cell_type": "code",
   "execution_count": 51,
   "metadata": {},
   "outputs": [
    {
     "output_type": "stream",
     "name": "stdout",
     "text": [
      "+--------------+----------------+-------------+------------+-----------+----+---------+-----+-------+\n|auxiliary_text|create_timestamp|display_title|opening_text|source_text|text|timestamp|title|version|\n+--------------+----------------+-------------+------------+-----------+----+---------+-----+-------+\n|          null|            null|         null|        null|       null|null|     null| null|   null|\n|          null|            null|         null|        null|       null|null|     null| null|   null|\n|          null|            null|         null|        null|       null|null|     null| null|   null|\n|          null|            null|         null|        null|       null|null|     null| null|   null|\n|          null|            null|         null|        null|       null|null|     null| null|   null|\n|          null|            null|         null|        null|       null|null|     null| null|   null|\n|          null|            null|         null|        null|       null|null|     null| null|   null|\n|          null|            null|         null|        null|       null|null|     null| null|   null|\n|          null|            null|         null|        null|       null|null|     null| null|   null|\n|          null|            null|         null|        null|       null|null|     null| null|   null|\n|          null|            null|         null|        null|       null|null|     null| null|   null|\n|          null|            null|         null|        null|       null|null|     null| null|   null|\n|          null|            null|         null|        null|       null|null|     null| null|   null|\n|          null|            null|         null|        null|       null|null|     null| null|   null|\n|          null|            null|         null|        null|       null|null|     null| null|   null|\n|          null|            null|         null|        null|       null|null|     null| null|   null|\n|          null|            null|         null|        null|       null|null|     null| null|   null|\n|          null|            null|         null|        null|       null|null|     null| null|   null|\n|          null|            null|         null|        null|       null|null|     null| null|   null|\n|          null|            null|         null|        null|       null|null|     null| null|   null|\n+--------------+----------------+-------------+------------+-----------+----+---------+-----+-------+\nonly showing top 20 rows\n\n"
     ]
    }
   ],
   "source": [
    "filtered_df.show()"
   ]
  },
  {
   "cell_type": "code",
   "execution_count": 54,
   "metadata": {
    "tags": []
   },
   "outputs": [
    {
     "output_type": "stream",
     "name": "stdout",
     "text": [
      "+--------------+--------+-------------+-----------+----------------+-----------+-------------+-------------+---------+-----------+---------------+---------+---------------+---------+---------+----------+-------+--------------+-----+--------+---------+--------------+------------+-----------------+------------------+-------------+--------+-----------+--------+----+----------+---------+-----+-------+------------+----+-------------+\n|auxiliary_text|category|content_model|coordinates|create_timestamp|defaultsort|display_title|external_link|file_bits|file_height|file_media_type|file_mime|file_resolution|file_size|file_text|file_width|heading|incoming_links|index|language|namespace|namespace_text|opening_text|ores_articletopic|ores_articletopics|outgoing_link|redirect|source_text|template|text|text_bytes|timestamp|title|version|version_type|wiki|wikibase_item|\n+--------------+--------+-------------+-----------+----------------+-----------+-------------+-------------+---------+-----------+---------------+---------+---------------+---------+---------+----------+-------+--------------+-----+--------+---------+--------------+------------+-----------------+------------------+-------------+--------+-----------+--------+----+----------+---------+-----+-------+------------+----+-------------+\n+--------------+--------+-------------+-----------+----------------+-----------+-------------+-------------+---------+-----------+---------------+---------+---------------+---------+---------+----------+-------+--------------+-----+--------+---------+--------------+------------+-----------------+------------------+-------------+--------+-----------+--------+----+----------+---------+-----+-------+------------+----+-------------+\n\n"
     ]
    }
   ],
   "source": [
    "df.where(df[\"namespace\"] == 0).show()"
   ]
  }
 ]
}