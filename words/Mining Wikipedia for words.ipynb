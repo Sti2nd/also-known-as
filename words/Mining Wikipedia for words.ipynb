{
 "metadata": {
  "language_info": {
   "codemirror_mode": {
    "name": "ipython",
    "version": 3
   },
   "file_extension": ".py",
   "mimetype": "text/x-python",
   "name": "python",
   "nbconvert_exporter": "python",
   "pygments_lexer": "ipython3",
   "version": "3.9.1-final"
  },
  "orig_nbformat": 2,
  "kernelspec": {
   "name": "python3",
   "display_name": "Python 3",
   "language": "python"
  }
 },
 "nbformat": 4,
 "nbformat_minor": 2,
 "cells": [
  {
   "source": [
    "# Mining words from Wikipedia"
   ],
   "cell_type": "markdown",
   "metadata": {}
  },
  {
   "cell_type": "code",
   "execution_count": 22,
   "metadata": {},
   "outputs": [],
   "source": [
    "from pyspark.sql import SparkSession\n",
    "from pyspark.sql.functions import array_contains\n",
    "import unicodedata\n",
    "import pycountry\n",
    "\n",
    "spark = SparkSession \\\n",
    "    .builder \\\n",
    "    .appName(\"Analysing Wikipedia\") \\\n",
    "    .getOrCreate()"
   ]
  },
  {
   "cell_type": "code",
   "execution_count": 6,
   "metadata": {},
   "outputs": [],
   "source": [
    "df = spark.read.json(\"./nowiki-20210111-cirrussearch-content.json\")"
   ]
  },
  {
   "source": [
    "## Cleaning the dataset"
   ],
   "cell_type": "markdown",
   "metadata": {}
  },
  {
   "source": [
    "Looking at the schema just to explore the dataset. Found [a description of the JSON dump format on Wikipedia](https://meta.wikimedia.org/wiki/Data_dumps/Misc_dumps_format)"
   ],
   "cell_type": "markdown",
   "metadata": {}
  },
  {
   "cell_type": "code",
   "execution_count": 7,
   "metadata": {},
   "outputs": [
    {
     "output_type": "stream",
     "name": "stdout",
     "text": [
      "root\n |-- auxiliary_text: array (nullable = true)\n |    |-- element: string (containsNull = true)\n |-- category: array (nullable = true)\n |    |-- element: string (containsNull = true)\n |-- content_model: string (nullable = true)\n |-- coordinates: array (nullable = true)\n |    |-- element: struct (containsNull = true)\n |    |    |-- coord: struct (nullable = true)\n |    |    |    |-- lat: double (nullable = true)\n |    |    |    |-- lon: double (nullable = true)\n |    |    |-- country: string (nullable = true)\n |    |    |-- dim: long (nullable = true)\n |    |    |-- globe: string (nullable = true)\n |    |    |-- name: string (nullable = true)\n |    |    |-- primary: boolean (nullable = true)\n |    |    |-- region: string (nullable = true)\n |    |    |-- type: string (nullable = true)\n |-- create_timestamp: string (nullable = true)\n |-- defaultsort: string (nullable = true)\n |-- display_title: string (nullable = true)\n |-- external_link: array (nullable = true)\n |    |-- element: string (containsNull = true)\n |-- heading: array (nullable = true)\n |    |-- element: string (containsNull = true)\n |-- incoming_links: long (nullable = true)\n |-- index: struct (nullable = true)\n |    |-- _id: string (nullable = true)\n |    |-- _type: string (nullable = true)\n |-- language: string (nullable = true)\n |-- namespace: long (nullable = true)\n |-- namespace_text: string (nullable = true)\n |-- opening_text: string (nullable = true)\n |-- ores_articletopic: array (nullable = true)\n |    |-- element: string (containsNull = true)\n |-- ores_articletopics: array (nullable = true)\n |    |-- element: string (containsNull = true)\n |-- outgoing_link: array (nullable = true)\n |    |-- element: string (containsNull = true)\n |-- popularity_score: double (nullable = true)\n |-- redirect: array (nullable = true)\n |    |-- element: struct (containsNull = true)\n |    |    |-- namespace: long (nullable = true)\n |    |    |-- title: string (nullable = true)\n |-- score: double (nullable = true)\n |-- source_text: string (nullable = true)\n |-- template: array (nullable = true)\n |    |-- element: string (containsNull = true)\n |-- text: string (nullable = true)\n |-- text_bytes: long (nullable = true)\n |-- timestamp: string (nullable = true)\n |-- title: string (nullable = true)\n |-- version: long (nullable = true)\n |-- version_type: string (nullable = true)\n |-- wiki: string (nullable = true)\n |-- wikibase_item: string (nullable = true)\n\n"
     ]
    }
   ],
   "source": [
    "df.printSchema()"
   ]
  },
  {
   "cell_type": "code",
   "execution_count": 8,
   "metadata": {
    "tags": []
   },
   "outputs": [
    {
     "output_type": "stream",
     "name": "stdout",
     "text": [
      "+--------------------+--------------------+-------------+--------------------+--------------------+----------------+-------------+--------------------+--------------------+--------------+--------------+--------+---------+--------------+--------------------+--------------------+--------------------+--------------------+--------------------+--------------------+------------------+--------------------+--------------------+--------------------+----------+--------------------+--------------------+--------+------------+------+-------------+\n|      auxiliary_text|            category|content_model|         coordinates|    create_timestamp|     defaultsort|display_title|       external_link|             heading|incoming_links|         index|language|namespace|namespace_text|        opening_text|   ores_articletopic|  ores_articletopics|       outgoing_link|    popularity_score|            redirect|             score|         source_text|            template|                text|text_bytes|           timestamp|               title| version|version_type|  wiki|wikibase_item|\n+--------------------+--------------------+-------------+--------------------+--------------------+----------------+-------------+--------------------+--------------------+--------------+--------------+--------+---------+--------------+--------------------+--------------------+--------------------+--------------------+--------------------+--------------------+------------------+--------------------+--------------------+--------------------+----------+--------------------+--------------------+--------+------------+------+-------------+\n|                null|                null|         null|                null|                null|            null|         null|                null|                null|          null|[796279, page]|    null|     null|          null|                null|                null|                null|                null|                null|                null|              null|                null|                null|                null|      null|                null|                null|    null|        null|  null|         null|\n|[Hundene i Riga o...|[Artikler med fil...|     wikitext|                  []|2010-06-27T18:30:01Z|           false|         null|[https://www.wiki...|[Handling, Rollel...|            10|          null|      nb|        0|              |Hundene i Riga er...|                null|                null|[Björn_Kjellman, ...|1.186194065204198...|[[0, Hundarna i R...|              null|{{Kursiv tittel}}...|[Mal:Kursiv titte...|Hundene i Riga er...|      3673|2019-04-23T10:14:01Z|Hundene i Riga (f...|19391640|    external|nowiki|    Q10527170|\n|                null|                null|         null|                null|                null|            null|         null|                null|                null|          null|[296742, page]|    null|     null|          null|                null|                null|                null|                null|                null|                null|              null|                null|                null|                null|      null|                null|                null|    null|        null|  null|         null|\n|[Kill Buljo Gener...|[Artikler med død...|     wikitext|                  []|2007-03-18T20:54:18Z|           false|         null|[http://film.medi...|[Rolleliste, Anme...|            34|          null|      nb|        0|              |Kill Buljo er en ...|[Culture.Media.Fi...|[Culture.Media.Fi...|[Wikipedia:Stilma...|1.171366639389145...|[[0, Kill buljo],...|              null|{{Kursiv tittel}}...|[Mal:Kursiv titte...|Kill Buljo er en ...|      3521|2020-04-02T11:05:31Z|          Kill Buljo|20332756|    external|nowiki|     Q1741317|\n|                null|                null|         null|                null|                null|            null|         null|                null|                null|          null|[354927, page]|    null|     null|          null|                null|                null|                null|                null|                null|                null|              null|                null|                null|                null|      null|                null|                null|    null|        null|  null|         null|\n|[«Bro, bro brille...|[Sangleker, Julel...|     wikitext|                  []|2007-07-25T08:52:41Z|           false|         null|[http://www.rimog...|[Mange navn og ma...|            17|          null|      nb|        0|              |Bro, bro brille e...|                null|                null|[1014, 1957, Alli...|8.260788530815613E-6|[[0, Bro bro bril...|1.1926010434961E-5|<!--[[Fil:Nagasak...|                  []|Bro, bro brille e...|     12266|2019-01-09T10:10:54Z|     Bro, bro brille|19090815|    external|nowiki|      Q468404|\n|                null|                null|         null|                null|                null|            null|         null|                null|                null|          null|[297525, page]|    null|     null|          null|                null|                null|                null|                null|                null|                null|              null|                null|                null|                null|      null|                null|                null|    null|        null|  null|         null|\n|[Marcus Furius Ca...|[Sider med refera...|     wikitext|                  []|2007-03-20T12:55:14Z|           false|         null|[https://d-nb.inf...|                  []|             9|          null|      nb|        0|              |Marcus Furius Cam...|[Culture.Biograph...|[Culture.Biograph...|[365_f.Kr., 387_f...|7.727424079410719E-7|[[0, Marcus Furiu...|              null|{{infoboks biogra...|[Mal:Infoboks bio...|Marcus Furius Cam...|      1155|2019-09-18T23:56:53Z|Marcus Furius Cam...|19798658|    external|nowiki|      Q294862|\n|                null|                null|         null|                null|                null|            null|         null|                null|                null|          null|[357417, page]|    null|     null|          null|                null|                null|                null|                null|                null|                null|              null|                null|                null|                null|      null|                null|                null|    null|        null|  null|         null|\n|[Final Fantasy II...|[Artikler med spi...|     wikitext|                  []|2007-08-01T13:14:37Z|Final Fantasy 03|         null|[https://www.wiki...|                  []|            40|          null|      nb|        0|              |Final Fantasy III...|[Culture.Media.Vi...|[Culture.Media.Vi...|[Wikipedia:Stilma...|7.080675883556239E-7|        [[0, Ffiii]]|              null|{{Infoboks videos...|[Mal:Infoboks vid...|Final Fantasy III...|      2087|2016-04-11T18:17:25Z|   Final Fantasy III|16188033|    external|nowiki|      Q687559|\n|                null|                null|         null|                null|                null|            null|         null|                null|                null|          null|[933887, page]|    null|     null|          null|                null|                null|                null|                null|                null|                null|              null|                null|                null|                null|      null|                null|                null|    null|        null|  null|         null|\n|[Biskoppelig samf...|[Andorransk polit...|     wikitext|                  []|2011-06-29T17:29:43Z|           false|         null|[http://www.copri...|                  []|            71|          null|      nb|        0|              |Liste over samfyr...|[Culture.Biograph...|[Culture.Biograph...|[1278, 1293, 1295...|7.867417648395821E-7|[[0, Samfyrste av...|5.2176295652954E-7|'''Liste over sam...|                  []|Liste over samfyr...|     13272|2018-07-05T23:06:42Z|Liste over samfyr...|18674391|    external|nowiki|    Q16021008|\n|                null|                null|         null|                null|                null|            null|         null|                null|                null|          null|[193846, page]|    null|     null|          null|                null|                null|                null|                null|                null|                null|              null|                null|                null|                null|      null|                null|                null|    null|        null|  null|         null|\n|[Kristiansand kat...|[Artikler med død...|     wikitext|[[[58.16, 8.01027...|2006-09-20T14:53:58Z|           false|         null|[http://www.dagbl...|[Historie, Kunsts...|           128|          null|      nb|        0|              |Kristiansand kate...|[Geography.Region...|[Geography.Region...|[Norge, 1492, 164...|3.929267840988906E-6|[[0, Kristiansand...|              null|{{Infoboks skole\n...|[Mal:Infoboks sko...|Kristiansand kate...|      8272|2020-09-14T10:15:43Z|Kristiansand kate...|20763453|    external|nowiki|     Q1780675|\n|                null|                null|         null|                null|                null|            null|         null|                null|                null|          null|[495331, page]|    null|     null|          null|                null|                null|                null|                null|                null|                null|              null|                null|                null|                null|      null|                null|                null|    null|        null|  null|         null|\n|                  []|[Franskmenn, Den ...|     wikitext|                  []|2008-06-08T16:50:11Z|Duault, Isabelle|         null|[http://www.konge...|                  []|             4|          null|      nb|        0|              |Isabelle Duault e...|                null|                null|[Den_Kongelige_No...|2.965485163010495...|                  []|5.2176295652954E-7|'''Isabelle Duaul...|                  []|Isabelle Duault e...|       877|2016-01-07T13:13:09Z|     Isabelle Duault|15423889|    external|nowiki|    Q11977530|\n|                null|                null|         null|                null|                null|            null|         null|                null|                null|          null|[285838, page]|    null|     null|          null|                null|                null|                null|                null|                null|                null|              null|                null|                null|                null|      null|                null|                null|    null|        null|  null|         null|\n|[Laget kirke Karl...|[Artikler hvor om...|     wikitext|[[[58.67980999999...|2007-02-24T22:59:15Z|           false|         null|[https://www.wiki...|        [Litteratur]|            25|          null|      nb|        0|              |Laget kirke er en...|                null|[Culture.Philosop...|[Mal:Kirker_i_Aus...|7.867417648395821E-7|[[0, Laget kirkes...|              null|{{Infoboks kirke\n...|[Mal:Infoboks kir...|Laget kirke er en...|      1032|2020-05-02T04:03:13Z|         Laget kirke|20415198|    external|nowiki|    Q11982942|\n|                null|                null|         null|                null|                null|            null|         null|                null|                null|          null|[243087, page]|    null|     null|          null|                null|                null|                null|                null|                null|                null|              null|                null|                null|                null|      null|                null|                null|    null|        null|  null|         null|\n|                  []|[Artikler med off...|     wikitext|                  []|2006-12-10T21:44:38Z|           false|         null|[http://www.ferra...|  [Bilder, Bilder 2]|            10|          null|      nb|        0|              |Enzo Ferrari (200...|[Culture.Sports|3...|[Culture.Sports|3...|[2005, 28._juni, ...|2.668936646709445...| [[0, Ferrari Enzo]]| 5.590317391388E-6|'''Enzo Ferrari''...|[Mal:Wayback, Mal...|Enzo Ferrari (200...|      2719|2020-05-19T19:24:45Z|Enzo Ferrari (bil...|20504649|    external|nowiki|      Q269880|\n+--------------------+--------------------+-------------+--------------------+--------------------+----------------+-------------+--------------------+--------------------+--------------+--------------+--------+---------+--------------+--------------------+--------------------+--------------------+--------------------+--------------------+--------------------+------------------+--------------------+--------------------+--------------------+----------+--------------------+--------------------+--------+------------+------+-------------+\nonly showing top 20 rows\n\n"
     ]
    }
   ],
   "source": [
    "df.show()"
   ]
  },
  {
   "source": [
    "### Find columns to filter on"
   ],
   "cell_type": "markdown",
   "metadata": {}
  },
  {
   "cell_type": "code",
   "execution_count": 9,
   "metadata": {},
   "outputs": [
    {
     "output_type": "stream",
     "name": "stdout",
     "text": [
      "+-------------+\n|content_model|\n+-------------+\n|         null|\n|     wikitext|\n+-------------+\n\n"
     ]
    }
   ],
   "source": [
    "# Should one filter out null?\n",
    "df.select(\"content_model\").distinct().show()"
   ]
  },
  {
   "cell_type": "code",
   "execution_count": 10,
   "metadata": {},
   "outputs": [
    {
     "output_type": "execute_result",
     "data": {
      "text/plain": [
       "548219"
      ]
     },
     "metadata": {},
     "execution_count": 10
    }
   ],
   "source": [
    "df.filter(df[\"content_model\"].isNotNull()).count()"
   ]
  },
  {
   "cell_type": "code",
   "execution_count": 11,
   "metadata": {},
   "outputs": [
    {
     "output_type": "execute_result",
     "data": {
      "text/plain": [
       "548219"
      ]
     },
     "metadata": {},
     "execution_count": 11
    }
   ],
   "source": [
    "df.filter(df[\"content_model\"].isNull()).count()"
   ]
  },
  {
   "cell_type": "code",
   "execution_count": 12,
   "metadata": {},
   "outputs": [],
   "source": [
    "# It seems like every other row in this dataset consists of just nulls,\n",
    "# so I remove those rows\n",
    "df_not_null = df.filter(df[\"content_model\"].isNotNull())"
   ]
  },
  {
   "cell_type": "code",
   "execution_count": 13,
   "metadata": {},
   "outputs": [
    {
     "output_type": "stream",
     "name": "stdout",
     "text": [
      "+--------+\n|language|\n+--------+\n|      nb|\n+--------+\n\n"
     ]
    }
   ],
   "source": [
    "# After removing the nulls, there is only one language (where previously null also showed up)\n",
    "df_not_null.select(\"language\").distinct().show()"
   ]
  },
  {
   "cell_type": "code",
   "execution_count": 14,
   "metadata": {},
   "outputs": [
    {
     "output_type": "stream",
     "name": "stdout",
     "text": [
      "+---------+\n|namespace|\n+---------+\n|        0|\n+---------+\n\n"
     ]
    }
   ],
   "source": [
    "# About namespaces https://en.wikipedia.org/wiki/Wikipedia:Namespace\n",
    "# Articles have no namespace (no prefix), we are interested namespace 0.\n",
    "# It seems this dataset only contains the namespace we are interested in!\n",
    "df_not_null.select(\"namespace\").distinct().show()"
   ]
  },
  {
   "source": [
    "### Filtering out columns"
   ],
   "cell_type": "markdown",
   "metadata": {}
  },
  {
   "cell_type": "code",
   "execution_count": 15,
   "metadata": {},
   "outputs": [],
   "source": [
    "filtered_df = df_not_null.drop(\"content_model\", \"language\", \"category\", \"coordinates\", \"defaultsort\", \\\n",
    "        \"external_link\", \"heading\", \"incoming_links\", \"namespace\", \"namespace_text\", \\\n",
    "        \"outgoing_link\", \"redirect\", \"text_bytes\", \"template\", \"wiki\", \\\n",
    "        \"wikibase_item\", \"version_type\", \"file_bits\", \"file_height\", \"file_media_type\", \\\n",
    "        \"file_resolution\", \"file_size\", \"file_text\", \"file_width\", \"index\", \\\n",
    "        \"file_mime\", \"ores_articletopic\", \"ores_articletopics\", \"score\", \"popularity_score\", \\\n",
    "        \"display_title\", \"auxiliary_text\", \"create_timestamp\", \"opening_text\", \"source_text\", \\\n",
    "        \"timestamp\", \"version\")"
   ]
  },
  {
   "cell_type": "code",
   "execution_count": 16,
   "metadata": {},
   "outputs": [
    {
     "output_type": "stream",
     "name": "stdout",
     "text": [
      "+--------------------+----------+\n|                text|     title|\n+--------------------+----------+\n|Kill Buljo er en ...|Kill Buljo|\n+--------------------+----------+\n\n"
     ]
    }
   ],
   "source": [
    "# Seems like only one entry per article. That's good! I feared it was one per revision.\n",
    "filtered_df.filter(filtered_df[\"title\"] == \"Kill Buljo\").show()"
   ]
  },
  {
   "cell_type": "code",
   "execution_count": 17,
   "metadata": {},
   "outputs": [
    {
     "output_type": "execute_result",
     "data": {
      "text/plain": [
       "'Kill Buljo er en norsk film fra 2008. Den er en komisk parodi på det amerikanske actioneeventyret Kill Bill, og handlingen er lagt til Finnmark. Regi er ved Tommy Wirkola og manus Stig Frode Henriksen og Tommy Wirkola. Filmen hadde premiere i mars 2007, og ble sett av 87 000 på kino i Norge. Det ble solgt over 95 000 DVD-er. Filmmusikken ble bl.a. laget av Alta-bandet Cyaneed. Kill Buljo 2 kom ut i 2013. Jompa Tormann er rollefiguren som spilles av Stig Frode Henriksen i filmen Kill Buljo. Rollefiguren dukker også opp i flere kortfilmer på DVD-en Kill Buljo: The Beginning. Jompa Tormann: Stig Frode Henriksen Pappa Buljo: Frank Arne Olsen Tampa Buljo: Martin Hykkerud Sid Wisløff: Tommy Wirkola Unni Formen: Natasha Angel Dahle Peggy Mathilassi: Linda Øverlie Nilsen Crazy Beibifeit: Ørjan Gamst Kjell Driver: John Even Pedersen Bud Light: Christian Reiertsen Lara Kofta: Merete Nordahl Mr. Handjagi: Ørjan Gamst Kato: Jørn Tore Nilsen Blow Job: Heidi Monsen Troll Tove: Eirik Junge Eliassen Sid Wisløffs far: Kristian Figenschow Mona Smurfen: Aina Timbiani Anmeldelse i Verdens Gang Anmeldelse i Bergens Tidende Anmeldelse i Nettavisen Anmeldelse i Stavanger Aftenblad Anmeldelse i Adresseavisen ^ Endring av aldersgrense på filmen Kill Buljo – the movie[død lenke], Medietilsynet, 29. mars 2007 ^ Bergensavisen – Mer «Kill Buljo» Offisielt nettsted (en) Kill Buljo på Internet Movie Database (no) Kill Buljo i Nasjonalbibliotekets filmografi (en) Kill Buljo på AllMovie (en) Kill Buljo på Turner Classic Movies (en) Kill Buljo på Rotten Tomatoes Dagbladet – Kill Buljo til utlandet Kill Buljo hos Filmweb Denne norske filmrelaterte artikkelen er foreløpig kort eller mangelfull, og du kan hjelpe Wikipedia ved å utvide den. Det finnes mer utfyllende artikkel/artikler på \\xa0.'"
      ]
     },
     "metadata": {},
     "execution_count": 17
    }
   ],
   "source": [
    "# Comparing the content in the text column to the content on the web page\n",
    "# https://no.wikipedia.org/wiki/Kill_Buljo\n",
    "filtered_df.filter(filtered_df[\"title\"] == \"Kill Buljo\").select(\"text\").collect()[0][0]"
   ]
  },
  {
   "source": [
    "It seems the text column contains everything in the article, so I went back and removed all columns except `text` and `title`.\n",
    "\n",
    "The text content itself could need some cleaning. There are several instances of `(en)` which looking at the web page seems to be the language of the external reference, so at least remove `(en)` and `(no)`. At one point we see `[død lenke]` which is an inline footnote, possibly a generic one. Going to the web page we find that it was created by a bot. On Wikipedia we find a web page listing [all referance template tags that can appear in running text](https://no.wikipedia.org/wiki/Mal:Trenger_referanse).\n",
    "\n",
    "Also found a [list over sentences called \"stub\"](https://no.wikipedia.org/wiki/Kategori:Stubbmaler) that can appear in the running text\n",
    "\n",
    "We see that \\xa0 appears.\n",
    "\n",
    "And lastly we want to remove punctuation marks, digits and other special characters. Basically be left with only words consisting of letters."
   ],
   "cell_type": "markdown",
   "metadata": {}
  },
  {
   "source": [
    "### Cleaning the text content"
   ],
   "cell_type": "markdown",
   "metadata": {}
  },
  {
   "cell_type": "code",
   "execution_count": 46,
   "metadata": {},
   "outputs": [],
   "source": [
    "possible_template_reference_tags = [\"[trenger referanse]\", \"[klargjør]\", \"[hvor?]\", \"[trenger oppdatering]\", \"[død lenke]\", \"[trenger sitat]\", \"[trenger bedre kilde]\", \"[bør utdypes]\", \"[hvem?]\", \"[omstridt – diskuter]\", \"[ufullstendig referanse]\", \"[ikke i angitt kilde]\", \"[tredjepartskilde trengs]\", \"[når?]\", \"[av hvem?]\", \"[sic]\", \"[trenger sidetall]\"]\n",
    "\n",
    "# First time I understand this is a generator and not just a for loop\n",
    "# Weirdly enough, the ISO 639-3 alpha_2 codes doesn't contain \"en\"\n",
    "ext_ref_language_tags = [f\"({country.alpha_2.lower()})\" for country in pycountry.countries] + [\"(en)\"]\n",
    "\n",
    "# Maybe I should automate this... it is 361 entries! https://no.wikipedia.org/wiki/Kategori:Stubbmaler\n",
    "possible_template_stub_tags = [\n",
    "    \"Denne artikkelen er foreløpig kort eller mangelfull. Du kan hjelpe Wikipedia ved å utvide eller endre den.\",\n",
    "    \"Denne seksjonen er en stubb. Du kan bidra med å utvide den.\",\n",
    "    \"Denne musikkalbum-relaterte artikkelen er foreløpig kort eller mangelfull, og du kan hjelpe Wikipedia ved å utvide den.\",\n",
    "    \"Denne alternativ rock-relaterte artikkelen er foreløpig kort eller mangelfull, og du kan hjelpe Wikipedia ved å utvide den.\",\n",
    "    \"Denne anatomirelaterte artikkelen er foreløpig kort eller mangelfull, og du kan hjelpe Wikipedia ved å utvide den.\",\n",
    "    \"Denne romerskrelaterte artikkelen er foreløpig kort eller mangelfull, og du kan hjelpe Wikipedia ved å utvide den.\",\n",
    "    \"Denne astronomirelaterte artikkelen er foreløpig kort eller mangelfull, og du kan hjelpe Wikipedia ved å utvide den.\",\n",
    "    \"Denne avisrelaterte artikkelen er foreløpig kort eller mangelfull, og du kan hjelpe Wikipedia ved å utvide den.\",\n",
    "    \"Denne bilrelaterte artikkelen er foreløpig kort eller mangelfull, og du kan hjelpe Wikipedia ved å utvide den.\",\n",
    "    \"Denne biokjemirelaterte artikkelen er foreløpig kort eller mangelfull, og du kan hjelpe Wikipedia ved å utvide den.\",\n",
    "    \"Denne biologirelaterte artikkelen er foreløpig kort eller mangelfull, og du kan hjelpe Wikipedia ved å utvide den.\",\n",
    "    \"Denne botanikkrelaterte artikkelen er foreløpig kort eller mangelfull, og du kan hjelpe Wikipedia ved å utvide den.\",\n",
    "    \"Denne datarelaterte artikkelen er foreløpig kort eller mangelfull, og du kan hjelpe Wikipedia ved å utvide den.\",\n",
    "    \"Denne drikkerelaterte artikkelen er foreløpig kort eller mangelfull, og du kan hjelpe Wikipedia ved å utvide den.\",\n",
    "    \"Denne elektrorelaterte artikkelen er foreløpig kort eller mangelfull, og du kan hjelpe Wikipedia ved å utvide den.\",\n",
    "    \"Denne farmakologirelaterte artikkelen er foreløpig kort eller mangelfull, og du kan hjelpe Wikipedia ved å utvide den.\",\n",
    "    \"Denne festivalrelaterte artikkelen er foreløpig kort eller mangelfull, og du kan hjelpe Wikipedia ved å utvide den.\",\n",
    "    \"Denne filmrelaterte artikkelen er foreløpig kort eller mangelfull, og du kan hjelpe Wikipedia ved å utvide den.\",\n",
    "    \"Denne filosofirelaterte artikkelen er foreløpig kort eller mangelfull, og du kan hjelpe Wikipedia ved å utvide den.\",\n",
    "    \"Denne fjellrelaterte artikkelen er foreløpig kort eller mangelfull, og du kan hjelpe Wikipedia ved å utvide den. Det finnes en mer utfyllende artikkel om emnet på nynorsk.\"\n",
    "    \"Denne fjellrelaterte artikkelen er foreløpig kort eller mangelfull, og du kan hjelpe Wikipedia ved å utvide den.\"\n",
    "\n",
    "]"
   ]
  },
  {
   "cell_type": "code",
   "execution_count": 19,
   "metadata": {},
   "outputs": [],
   "source": [
    "# Use RDD features to map and reduce\n",
    "# Transform from Row with title and text to just text strings, rigth away\n",
    "rdd = filtered_df.rdd.map(lambda row: row.text)"
   ]
  },
  {
   "cell_type": "code",
   "execution_count": 21,
   "metadata": {},
   "outputs": [],
   "source": [
    "def remove_strings(src_string: str, strings_to_remove: list):\n",
    "    new_string= src_string\n",
    "    for s in strings_to_remove:\n",
    "        new_string = new_string.replace(s, \"\")\n",
    "    return new_string"
   ]
  },
  {
   "cell_type": "code",
   "execution_count": 47,
   "metadata": {},
   "outputs": [
    {
     "output_type": "execute_result",
     "data": {
      "text/plain": [
       "['Hundene i Riga er en svensk film fra 1995 av Per Berglund med Rolf Lassgård, Björn Kjellman, Charlotte Sieling og Paul Butkevich i noen av rollene. Filmen basert seg på romanen Hundene i Riga av Henning Mankell som er den andre i serien om Kurt Wallander. En livbåt flyter i land ved den skånske kysten. I båten befinner det seg to menn som har blitt myrdet. Etterforsker Kurt Wallander fra politiet i Ystad tilkalles til plassen. Ved hjelp av politiet i Latvia blir begge mennene identifisert. For å lette utredningen ble en politimann tilkalt fra Latvia for å hjelpe til å løse saken. Men når politimannen vender tilbake til Latvia blir han myrdet. Kurt Wallander flyr til Latvia for å forsøke å finne ut hvorfor politimannen ble myrdet. (en) Hundene i Riga på Internet Movie Database (sv) Hundene i Riga i Svensk Filmdatabas (en) Hundene i Riga på Rotten Tomatoes Portal: Film',\n",
       " 'Kill Buljo er en norsk film fra 2008. Den er en komisk parodi på det amerikanske actioneeventyret Kill Bill, og handlingen er lagt til Finnmark. Regi er ved Tommy Wirkola og manus Stig Frode Henriksen og Tommy Wirkola. Filmen hadde premiere i mars 2007, og ble sett av 87 000 på kino i Norge. Det ble solgt over 95 000 DVD-er. Filmmusikken ble bl.a. laget av Alta-bandet Cyaneed. Kill Buljo 2 kom ut i 2013. Jompa Tormann er rollefiguren som spilles av Stig Frode Henriksen i filmen Kill Buljo. Rollefiguren dukker også opp i flere kortfilmer på DVD-en Kill Buljo: The Beginning. Jompa Tormann: Stig Frode Henriksen Pappa Buljo: Frank Arne Olsen Tampa Buljo: Martin Hykkerud Sid Wisløff: Tommy Wirkola Unni Formen: Natasha Angel Dahle Peggy Mathilassi: Linda Øverlie Nilsen Crazy Beibifeit: Ørjan Gamst Kjell Driver: John Even Pedersen Bud Light: Christian Reiertsen Lara Kofta: Merete Nordahl Mr. Handjagi: Ørjan Gamst Kato: Jørn Tore Nilsen Blow Job: Heidi Monsen Troll Tove: Eirik Junge Eliassen Sid Wisløffs far: Kristian Figenschow Mona Smurfen: Aina Timbiani Anmeldelse i Verdens Gang Anmeldelse i Bergens Tidende Anmeldelse i Nettavisen Anmeldelse i Stavanger Aftenblad Anmeldelse i Adresseavisen ^ Endring av aldersgrense på filmen Kill Buljo – the movie, Medietilsynet, 29. mars 2007 ^ Bergensavisen – Mer «Kill Buljo» Offisielt nettsted (en) Kill Buljo på Internet Movie Database (no) Kill Buljo i Nasjonalbibliotekets filmografi (en) Kill Buljo på AllMovie (en) Kill Buljo på Turner Classic Movies (en) Kill Buljo på Rotten Tomatoes Dagbladet – Kill Buljo til utlandet Kill Buljo hos Filmweb Denne norske filmrelaterte artikkelen er foreløpig kort eller mangelfull, og du kan hjelpe Wikipedia ved å utvide den. Det finnes mer utfyllende artikkel/artikler på \\xa0.']"
      ]
     },
     "metadata": {},
     "execution_count": 47
    }
   ],
   "source": [
    "removed_templates_rdd = rdd.map(lambda s: remove_strings(s, possible_template_reference_tags))\n",
    "removed_templates_rdd.take(2)"
   ]
  },
  {
   "cell_type": "code",
   "execution_count": 48,
   "metadata": {},
   "outputs": [
    {
     "output_type": "execute_result",
     "data": {
      "text/plain": [
       "['Hundene i Riga er en svensk film fra 1995 av Per Berglund med Rolf Lassgård, Björn Kjellman, Charlotte Sieling og Paul Butkevich i noen av rollene. Filmen basert seg på romanen Hundene i Riga av Henning Mankell som er den andre i serien om Kurt Wallander. En livbåt flyter i land ved den skånske kysten. I båten befinner det seg to menn som har blitt myrdet. Etterforsker Kurt Wallander fra politiet i Ystad tilkalles til plassen. Ved hjelp av politiet i Latvia blir begge mennene identifisert. For å lette utredningen ble en politimann tilkalt fra Latvia for å hjelpe til å løse saken. Men når politimannen vender tilbake til Latvia blir han myrdet. Kurt Wallander flyr til Latvia for å forsøke å finne ut hvorfor politimannen ble myrdet.  Hundene i Riga på Internet Movie Database  Hundene i Riga i Svensk Filmdatabas  Hundene i Riga på Rotten Tomatoes Portal: Film',\n",
       " 'Kill Buljo er en norsk film fra 2008. Den er en komisk parodi på det amerikanske actioneeventyret Kill Bill, og handlingen er lagt til Finnmark. Regi er ved Tommy Wirkola og manus Stig Frode Henriksen og Tommy Wirkola. Filmen hadde premiere i mars 2007, og ble sett av 87 000 på kino i Norge. Det ble solgt over 95 000 DVD-er. Filmmusikken ble bl.a. laget av Alta-bandet Cyaneed. Kill Buljo 2 kom ut i 2013. Jompa Tormann er rollefiguren som spilles av Stig Frode Henriksen i filmen Kill Buljo. Rollefiguren dukker også opp i flere kortfilmer på DVD-en Kill Buljo: The Beginning. Jompa Tormann: Stig Frode Henriksen Pappa Buljo: Frank Arne Olsen Tampa Buljo: Martin Hykkerud Sid Wisløff: Tommy Wirkola Unni Formen: Natasha Angel Dahle Peggy Mathilassi: Linda Øverlie Nilsen Crazy Beibifeit: Ørjan Gamst Kjell Driver: John Even Pedersen Bud Light: Christian Reiertsen Lara Kofta: Merete Nordahl Mr. Handjagi: Ørjan Gamst Kato: Jørn Tore Nilsen Blow Job: Heidi Monsen Troll Tove: Eirik Junge Eliassen Sid Wisløffs far: Kristian Figenschow Mona Smurfen: Aina Timbiani Anmeldelse i Verdens Gang Anmeldelse i Bergens Tidende Anmeldelse i Nettavisen Anmeldelse i Stavanger Aftenblad Anmeldelse i Adresseavisen ^ Endring av aldersgrense på filmen Kill Buljo – the movie, Medietilsynet, 29. mars 2007 ^ Bergensavisen – Mer «Kill Buljo» Offisielt nettsted  Kill Buljo på Internet Movie Database  Kill Buljo i Nasjonalbibliotekets filmografi  Kill Buljo på AllMovie  Kill Buljo på Turner Classic Movies  Kill Buljo på Rotten Tomatoes Dagbladet – Kill Buljo til utlandet Kill Buljo hos Filmweb Denne norske filmrelaterte artikkelen er foreløpig kort eller mangelfull, og du kan hjelpe Wikipedia ved å utvide den. Det finnes mer utfyllende artikkel/artikler på \\xa0.']"
      ]
     },
     "metadata": {},
     "execution_count": 48
    }
   ],
   "source": [
    "removed_lang_tags_rdd = removed_templates_rdd.map(lambda s: remove_strings(s, ext_ref_language_tags))\n",
    "removed_lang_tags_rdd.take(2)"
   ]
  }
 ]
}