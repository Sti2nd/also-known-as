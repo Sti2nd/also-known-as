{
 "metadata": {
  "language_info": {
   "codemirror_mode": {
    "name": "ipython",
    "version": 3
   },
   "file_extension": ".py",
   "mimetype": "text/x-python",
   "name": "python",
   "nbconvert_exporter": "python",
   "pygments_lexer": "ipython3",
   "version": "3.9.1-final"
  },
  "orig_nbformat": 2,
  "kernelspec": {
   "name": "python3",
   "display_name": "Python 3",
   "language": "python"
  }
 },
 "nbformat": 4,
 "nbformat_minor": 2,
 "cells": [
  {
   "source": [
    "# Mining words from Wikipedia"
   ],
   "cell_type": "markdown",
   "metadata": {}
  },
  {
   "cell_type": "code",
   "execution_count": 1,
   "metadata": {},
   "outputs": [],
   "source": [
    "from pyspark.sql import SparkSession\n",
    "\n",
    "spark = SparkSession \\\n",
    "    .builder \\\n",
    "    .appName(\"Analysing Wikipedia\") \\\n",
    "    .getOrCreate()"
   ]
  },
  {
   "cell_type": "code",
   "execution_count": 2,
   "metadata": {},
   "outputs": [],
   "source": [
    "df = spark.read.json(\"./nowiki-20210111-cirrussearch-general.json\")"
   ]
  },
  {
   "source": [
    "## Cleaning the dataset"
   ],
   "cell_type": "markdown",
   "metadata": {}
  },
  {
   "source": [
    "Looking at the schema just to explore the dataset. Found [a description of the JSON dump format on Wikipedia](https://meta.wikimedia.org/wiki/Data_dumps/Misc_dumps_format)"
   ],
   "cell_type": "markdown",
   "metadata": {}
  },
  {
   "cell_type": "code",
   "execution_count": 7,
   "metadata": {},
   "outputs": [
    {
     "output_type": "stream",
     "name": "stdout",
     "text": [
      "root\n |-- auxiliary_text: array (nullable = true)\n |    |-- element: string (containsNull = true)\n |-- category: array (nullable = true)\n |    |-- element: string (containsNull = true)\n |-- content_model: string (nullable = true)\n |-- coordinates: array (nullable = true)\n |    |-- element: struct (containsNull = true)\n |    |    |-- coord: struct (nullable = true)\n |    |    |    |-- lat: double (nullable = true)\n |    |    |    |-- lon: double (nullable = true)\n |    |    |-- country: string (nullable = true)\n |    |    |-- dim: long (nullable = true)\n |    |    |-- globe: string (nullable = true)\n |    |    |-- name: string (nullable = true)\n |    |    |-- primary: boolean (nullable = true)\n |    |    |-- region: string (nullable = true)\n |    |    |-- type: string (nullable = true)\n |-- create_timestamp: string (nullable = true)\n |-- defaultsort: string (nullable = true)\n |-- display_title: string (nullable = true)\n |-- external_link: array (nullable = true)\n |    |-- element: string (containsNull = true)\n |-- file_bits: long (nullable = true)\n |-- file_height: long (nullable = true)\n |-- file_media_type: string (nullable = true)\n |-- file_mime: string (nullable = true)\n |-- file_resolution: long (nullable = true)\n |-- file_size: long (nullable = true)\n |-- file_text: string (nullable = true)\n |-- file_width: long (nullable = true)\n |-- heading: array (nullable = true)\n |    |-- element: string (containsNull = true)\n |-- incoming_links: long (nullable = true)\n |-- index: struct (nullable = true)\n |    |-- _id: string (nullable = true)\n |    |-- _type: string (nullable = true)\n |-- language: string (nullable = true)\n |-- namespace: long (nullable = true)\n |-- namespace_text: string (nullable = true)\n |-- opening_text: string (nullable = true)\n |-- ores_articletopic: array (nullable = true)\n |    |-- element: string (containsNull = true)\n |-- ores_articletopics: array (nullable = true)\n |    |-- element: string (containsNull = true)\n |-- outgoing_link: array (nullable = true)\n |    |-- element: string (containsNull = true)\n |-- redirect: array (nullable = true)\n |    |-- element: struct (containsNull = true)\n |    |    |-- namespace: long (nullable = true)\n |    |    |-- title: string (nullable = true)\n |-- source_text: string (nullable = true)\n |-- template: array (nullable = true)\n |    |-- element: string (containsNull = true)\n |-- text: string (nullable = true)\n |-- text_bytes: long (nullable = true)\n |-- timestamp: string (nullable = true)\n |-- title: string (nullable = true)\n |-- version: long (nullable = true)\n |-- version_type: string (nullable = true)\n |-- wiki: string (nullable = true)\n |-- wikibase_item: string (nullable = true)\n\n"
     ]
    }
   ],
   "source": [
    "df.printSchema()"
   ]
  },
  {
   "source": [
    "### Find columns to filter on"
   ],
   "cell_type": "markdown",
   "metadata": {}
  },
  {
   "cell_type": "code",
   "execution_count": 23,
   "metadata": {},
   "outputs": [
    {
     "output_type": "stream",
     "name": "stdout",
     "text": [
      "+-------------+\n|content_model|\n+-------------+\n|   flow-board|\n|    Scribunto|\n|         null|\n|         json|\n|sanitized-css|\n|     wikitext|\n|   javascript|\n|          css|\n+-------------+\n\n"
     ]
    }
   ],
   "source": [
    "# We are only interested in \"wikitext\"\n",
    "df.select(\"content_model\").distinct().show()"
   ]
  },
  {
   "cell_type": "code",
   "execution_count": 26,
   "metadata": {},
   "outputs": [
    {
     "output_type": "stream",
     "name": "stdout",
     "text": [
      "+--------+\n|language|\n+--------+\n|      en|\n|      nb|\n|    null|\n|      de|\n|      nn|\n|      sv|\n|      nl|\n|      se|\n|      da|\n+--------+\n\n"
     ]
    }
   ],
   "source": [
    "# We are only interested in nb\n",
    "df.select(\"language\").distinct().show()"
   ]
  },
  {
   "cell_type": "code",
   "execution_count": 12,
   "metadata": {},
   "outputs": [
    {
     "output_type": "stream",
     "name": "stdout",
     "text": [
      "+-------------------+\n|     namespace_text|\n+-------------------+\n|Wikipedia-diskusjon|\n|    Brukerdiskusjon|\n|               null|\n|                Mal|\n|       Fildiskusjon|\n|MediaWiki-diskusjon|\n|          Wikipedia|\n|             Bruker|\n|  Kategoridiskusjon|\n|                Sak|\n|          MediaWiki|\n|    Portaldiskusjon|\n|     Moduldiskusjon|\n|          Diskusjon|\n|       Maldiskusjon|\n|           Kategori|\n|     Hjelpdiskusjon|\n|                Fil|\n|              Modul|\n|             Portal|\n|              Hjelp|\n+-------------------+\n\n"
     ]
    }
   ],
   "source": [
    "# We are only insterested in Wikipedia\n",
    "df.select(\"namespace_text\").distinct().show(21)"
   ]
  },
  {
   "cell_type": "code",
   "execution_count": 23,
   "metadata": {},
   "outputs": [],
   "source": [
    "filtered_df = df.filter( \\\n",
    "    (df[\"content_model\"] == \"wikitext\") & \\\n",
    "    (df[\"language\"] == \"nb\") & \\\n",
    "    (df[\"namespace_text\"] == \"Wikipedia\")) \\\n",
    "    .drop(\"content_model\", \"language\", \"category\", \"coordinates\", \"defaultsort\", \\\n",
    "        \"external_link\", \"heading\", \"incoming_links\", \"namespace\", \"namespace_text\", \\\n",
    "        \"outgoing_link\", \"redirect\", \"text_bytes\", \"template\", \"wiki\", \\\n",
    "        \"wikibase_item\", \"version_type\", \"file_bits\", \"file_height\", \"file_media_type\", \\\n",
    "        \"file_resolution\", \"file_size\", \"file_text\", \"file_width\", \"index\", \\\n",
    "        \"file_mime\", \"ores_articletopic\", \"ores_articletopics\")"
   ]
  },
  {
   "cell_type": "code",
   "execution_count": 24,
   "metadata": {},
   "outputs": [
    {
     "output_type": "stream",
     "name": "stdout",
     "text": [
      "+--------------------+--------------------+-------------+------------+--------------------+--------------------+--------------------+--------------------+--------+\n|      auxiliary_text|    create_timestamp|display_title|opening_text|         source_text|                text|           timestamp|               title| version|\n+--------------------+--------------------+-------------+------------+--------------------+--------------------+--------------------+--------------------+--------+\n|[Se også: Wikiped...|2012-07-14T19:11:08Z|         null|        null|<noinclude>\n{| wi...|                    |2016-11-01T19:38:14Z| Hva er en artikkel?|16865915|\n|                  []|2012-08-09T14:23:13Z|         null|        null|<noinclude>\n===[[...|Referanseløs stub...|2012-08-10T08:27:01Z|Sletting/Bobby Bo...|10999240|\n|[Det er selvsagt ...|2013-11-27T20:04:38Z|         null|        null|<noinclude>\n===[[...|Nominasjonen oven...|2013-12-03T13:40:28Z|Sletting/Mattangr...|12804653|\n|                  []|2013-07-12T11:37:40Z|         null|        null|<noinclude>\n===[[...|Antagelig småsvin...|2013-07-22T06:54:02Z|Sletting/Lars Klette|12556737|\n|                  []|2013-10-09T21:32:02Z|         null|        null|<noinclude>\n===[[...|Praktisk talt kil...|2013-10-16T17:17:11Z|Sletting/Selvmord...|12714556|\n|                  []|2013-06-15T07:45:09Z|         null|        null|{{framside bilete...|Skye er den størs...|2013-06-15T07:45:09Z|Ukens artikkel på...|12482880|\n|                  []|2018-07-31T13:23:42Z|         null|        null|{{Forside billede...|Cederrevolutionen...|2018-07-31T13:23:42Z|Ukens danske arti...|18730942|\n|                  []|2013-07-10T12:21:03Z|         null|        null|{{forsidebilde|Fl...|Kambodsja, offisi...|2013-07-10T12:21:03Z|Ukens artikkel/Uk...|12529902|\n|                  []|2013-10-10T17:23:32Z|         null|        null|=== [[Komet]] ===...|I samråd med Cocu...|2013-10-24T20:02:54Z| Kandidatsider/Komet|12729438|\n|[Forsiden   Ressu...|2013-06-20T08:17:21Z|         null|        null|{{Wikipedia:Under...|                    |2014-04-22T11:35:48Z|Underprosjekter/K...|13107371|\n|                  []|2013-07-10T19:22:01Z|         null|        null|<noinclude>\n===[[...|To og et halvt år...|2013-07-10T21:05:58Z|Sletting/Isabella...|12530759|\n|                  []|2013-12-06T17:08:41Z|         null|        null|<noinclude>\n===[[...|Jeg er ikke dreve...|2013-12-18T10:09:31Z| Sletting/Telco Data|12831183|\n|                  []|2013-09-06T12:57:20Z|         null|        null|<noinclude>\n===[[...|Ikke notabel nok ...|2013-09-13T16:20:56Z|Sletting/Ine Mari...|12654163|\n|                  []|2013-12-01T20:03:55Z|         null|        null|=== [[Det kinesis...|Hmmm. Unge Fløan ...|2013-12-08T20:27:20Z|Kandidatsider/Det...|12814444|\n|                  []|2013-12-09T22:14:28Z|         null|        null|<noinclude>\n===[[...|Musikkgruppe som ...|2013-12-18T13:39:58Z|  Sletting/Holy Shit|12831602|\n|                  []|2013-11-17T20:41:03Z|         null|        null|{{forsidebilde|No...|Nord-Trøndelag er...|2013-11-17T20:41:03Z|Ukens artikkel/Uk...|12774470|\n|                  []|2013-06-26T14:28:38Z|         null|        null|<noinclude>\n===[[...|Oppfyller vel ikk...|2013-07-12T07:37:39Z|Sletting/Ingeborg...|12532619|\n|                  []|2013-08-26T11:18:50Z|         null|        null|=== [[Liste over ...|Solid, velrediger...|2013-09-03T19:53:24Z|Kandidatsider/Lis...|12636448|\n|                  []|2013-06-26T17:27:44Z|         null|        null|<noinclude>\n===[[...|Relevant? Et goog...|2013-07-04T14:00:42Z|    Sletting/Gatzy-T|12518953|\n|                  []|2013-06-26T18:46:13Z|         null|        null|<noinclude>\n===[[...|Feil navn. Toppen...|2013-06-26T21:49:39Z| Sletting/Sagtindene|12506494|\n+--------------------+--------------------+-------------+------------+--------------------+--------------------+--------------------+--------------------+--------+\nonly showing top 20 rows\n\n"
     ]
    }
   ],
   "source": [
    "filtered_df.show()"
   ]
  },
  {
   "cell_type": "code",
   "execution_count": 32,
   "metadata": {},
   "outputs": [
    {
     "output_type": "error",
     "ename": "TypeError",
     "evalue": "condition should be string or Column",
     "traceback": [
      "\u001b[1;31m---------------------------------------------------------------------------\u001b[0m",
      "\u001b[1;31mTypeError\u001b[0m                                 Traceback (most recent call last)",
      "\u001b[1;32m<ipython-input-32-6cf74d60112b>\u001b[0m in \u001b[0;36m<module>\u001b[1;34m\u001b[0m\n\u001b[1;32m----> 1\u001b[1;33m \u001b[0mdf\u001b[0m\u001b[1;33m.\u001b[0m\u001b[0mfilter\u001b[0m\u001b[1;33m(\u001b[0m\u001b[1;32mlambda\u001b[0m \u001b[0mx\u001b[0m\u001b[1;33m:\u001b[0m \u001b[0mx\u001b[0m\u001b[1;33m.\u001b[0m\u001b[0marray_contains\u001b[0m\u001b[1;33m(\u001b[0m\u001b[1;34m\"Kategori:Sletting\"\u001b[0m\u001b[1;33m)\u001b[0m\u001b[1;33m)\u001b[0m\u001b[1;33m.\u001b[0m\u001b[0mcount\u001b[0m\u001b[1;33m(\u001b[0m\u001b[1;33m)\u001b[0m\u001b[1;33m\u001b[0m\u001b[1;33m\u001b[0m\u001b[0m\n\u001b[0m",
      "\u001b[1;32me:\\workspace3\\online-alias\\words\\.venv\\lib\\site-packages\\pyspark\\sql\\dataframe.py\u001b[0m in \u001b[0;36mfilter\u001b[1;34m(self, condition)\u001b[0m\n\u001b[0;32m   1461\u001b[0m             \u001b[0mjdf\u001b[0m \u001b[1;33m=\u001b[0m \u001b[0mself\u001b[0m\u001b[1;33m.\u001b[0m\u001b[0m_jdf\u001b[0m\u001b[1;33m.\u001b[0m\u001b[0mfilter\u001b[0m\u001b[1;33m(\u001b[0m\u001b[0mcondition\u001b[0m\u001b[1;33m.\u001b[0m\u001b[0m_jc\u001b[0m\u001b[1;33m)\u001b[0m\u001b[1;33m\u001b[0m\u001b[1;33m\u001b[0m\u001b[0m\n\u001b[0;32m   1462\u001b[0m         \u001b[1;32melse\u001b[0m\u001b[1;33m:\u001b[0m\u001b[1;33m\u001b[0m\u001b[1;33m\u001b[0m\u001b[0m\n\u001b[1;32m-> 1463\u001b[1;33m             \u001b[1;32mraise\u001b[0m \u001b[0mTypeError\u001b[0m\u001b[1;33m(\u001b[0m\u001b[1;34m\"condition should be string or Column\"\u001b[0m\u001b[1;33m)\u001b[0m\u001b[1;33m\u001b[0m\u001b[1;33m\u001b[0m\u001b[0m\n\u001b[0m\u001b[0;32m   1464\u001b[0m         \u001b[1;32mreturn\u001b[0m \u001b[0mDataFrame\u001b[0m\u001b[1;33m(\u001b[0m\u001b[0mjdf\u001b[0m\u001b[1;33m,\u001b[0m \u001b[0mself\u001b[0m\u001b[1;33m.\u001b[0m\u001b[0msql_ctx\u001b[0m\u001b[1;33m)\u001b[0m\u001b[1;33m\u001b[0m\u001b[1;33m\u001b[0m\u001b[0m\n\u001b[0;32m   1465\u001b[0m \u001b[1;33m\u001b[0m\u001b[0m\n",
      "\u001b[1;31mTypeError\u001b[0m: condition should be string or Column"
     ]
    }
   ],
   "source": [
    "df.filter(lambda x: x.array_contains(\"Kategori:Sletting\")).count()"
   ]
  }
 ]
}