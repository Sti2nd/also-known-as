{
 "metadata": {
  "language_info": {
   "codemirror_mode": {
    "name": "ipython",
    "version": 3
   },
   "file_extension": ".py",
   "mimetype": "text/x-python",
   "name": "python",
   "nbconvert_exporter": "python",
   "pygments_lexer": "ipython3",
   "version": "3.9.1-final"
  },
  "orig_nbformat": 2,
  "kernelspec": {
   "name": "python3",
   "display_name": "Python 3",
   "language": "python"
  }
 },
 "nbformat": 4,
 "nbformat_minor": 2,
 "cells": [
  {
   "source": [
    "# Mining meta information about Wikipedia so we can mine Wikipedia"
   ],
   "cell_type": "markdown",
   "metadata": {}
  },
  {
   "source": [
    "We are looking for the templates that sometimes appear in text in the `...content.json` dataset. For example:\n",
    "> Denne norske filmrelaterte artikkelen er foreløpig kort eller mangelfull, og du kan hjelpe Wikipedia ved å utvide den."
   ],
   "cell_type": "markdown",
   "metadata": {}
  },
  {
   "cell_type": "code",
   "execution_count": 1,
   "metadata": {},
   "outputs": [],
   "source": [
    "from pyspark.sql import SparkSession\n",
    "from pyspark.sql.functions import array_contains\n",
    "\n",
    "spark = SparkSession \\\n",
    "    .builder \\\n",
    "    .appName(\"Analysing Wikipedia\") \\\n",
    "    .getOrCreate()"
   ]
  },
  {
   "cell_type": "code",
   "execution_count": 2,
   "metadata": {},
   "outputs": [],
   "source": [
    "df = spark.read.json(\"./nowiki-20210111-cirrussearch-general.json\")"
   ]
  },
  {
   "cell_type": "code",
   "execution_count": 3,
   "metadata": {},
   "outputs": [
    {
     "output_type": "stream",
     "name": "stdout",
     "text": [
      "root\n |-- auxiliary_text: array (nullable = true)\n |    |-- element: string (containsNull = true)\n |-- category: array (nullable = true)\n |    |-- element: string (containsNull = true)\n |-- content_model: string (nullable = true)\n |-- coordinates: array (nullable = true)\n |    |-- element: struct (containsNull = true)\n |    |    |-- coord: struct (nullable = true)\n |    |    |    |-- lat: double (nullable = true)\n |    |    |    |-- lon: double (nullable = true)\n |    |    |-- country: string (nullable = true)\n |    |    |-- dim: long (nullable = true)\n |    |    |-- globe: string (nullable = true)\n |    |    |-- name: string (nullable = true)\n |    |    |-- primary: boolean (nullable = true)\n |    |    |-- region: string (nullable = true)\n |    |    |-- type: string (nullable = true)\n |-- create_timestamp: string (nullable = true)\n |-- defaultsort: string (nullable = true)\n |-- display_title: string (nullable = true)\n |-- external_link: array (nullable = true)\n |    |-- element: string (containsNull = true)\n |-- file_bits: long (nullable = true)\n |-- file_height: long (nullable = true)\n |-- file_media_type: string (nullable = true)\n |-- file_mime: string (nullable = true)\n |-- file_resolution: long (nullable = true)\n |-- file_size: long (nullable = true)\n |-- file_text: string (nullable = true)\n |-- file_width: long (nullable = true)\n |-- heading: array (nullable = true)\n |    |-- element: string (containsNull = true)\n |-- incoming_links: long (nullable = true)\n |-- index: struct (nullable = true)\n |    |-- _id: string (nullable = true)\n |    |-- _type: string (nullable = true)\n |-- language: string (nullable = true)\n |-- namespace: long (nullable = true)\n |-- namespace_text: string (nullable = true)\n |-- opening_text: string (nullable = true)\n |-- ores_articletopic: array (nullable = true)\n |    |-- element: string (containsNull = true)\n |-- ores_articletopics: array (nullable = true)\n |    |-- element: string (containsNull = true)\n |-- outgoing_link: array (nullable = true)\n |    |-- element: string (containsNull = true)\n |-- redirect: array (nullable = true)\n |    |-- element: struct (containsNull = true)\n |    |    |-- namespace: long (nullable = true)\n |    |    |-- title: string (nullable = true)\n |-- source_text: string (nullable = true)\n |-- template: array (nullable = true)\n |    |-- element: string (containsNull = true)\n |-- text: string (nullable = true)\n |-- text_bytes: long (nullable = true)\n |-- timestamp: string (nullable = true)\n |-- title: string (nullable = true)\n |-- version: long (nullable = true)\n |-- version_type: string (nullable = true)\n |-- wiki: string (nullable = true)\n |-- wikibase_item: string (nullable = true)\n\n"
     ]
    }
   ],
   "source": [
    "df.printSchema()"
   ]
  },
  {
   "cell_type": "code",
   "execution_count": 4,
   "metadata": {},
   "outputs": [
    {
     "output_type": "stream",
     "name": "stdout",
     "text": [
      "+-------------+\n|content_model|\n+-------------+\n|   flow-board|\n|    Scribunto|\n|         null|\n|         json|\n|sanitized-css|\n|     wikitext|\n|   javascript|\n|          css|\n+-------------+\n\n"
     ]
    }
   ],
   "source": [
    "# We probably only need wikitext\n",
    "df.select(\"content_model\").distinct().show()"
   ]
  },
  {
   "cell_type": "code",
   "execution_count": 7,
   "metadata": {},
   "outputs": [
    {
     "output_type": "stream",
     "name": "stdout",
     "text": [
      "+---------+\n|namespace|\n+---------+\n|        7|\n|      828|\n|     null|\n|        6|\n|        9|\n|        5|\n|        1|\n|       10|\n|      100|\n|        3|\n|      101|\n|       12|\n|        8|\n|       11|\n|      829|\n|        2|\n|        4|\n|       13|\n|     2600|\n|       14|\n|       15|\n+---------+\n\n"
     ]
    }
   ],
   "source": [
    "# About namespaces https://en.wikipedia.org/wiki/Wikipedia:Namespace\n",
    "# Templates have their own namespace! It is number 10\n",
    "df.select(\"namespace\").distinct().show(50)"
   ]
  },
  {
   "cell_type": "code",
   "execution_count": 47,
   "metadata": {},
   "outputs": [],
   "source": [
    "filtered_df = df \\\n",
    "    .filter( \\\n",
    "        (df[\"namespace\"] == 10) & \\\n",
    "        (df[\"content_model\"] == \"wikitext\")) \\\n",
    "    .drop(\"content_model\", \"language\", \"category\", \"coordinates\", \"defaultsort\", \\\n",
    "        \"external_link\", \"heading\", \"incoming_links\", \"namespace\", \"namespace_text\", \\\n",
    "        \"outgoing_link\", \"redirect\", \"text_bytes\", \"template\", \"wiki\", \\\n",
    "        \"wikibase_item\", \"version_type\", \"file_bits\", \"file_height\", \"file_media_type\", \\\n",
    "        \"file_resolution\", \"file_size\", \"file_text\", \"file_width\", \"index\", \\\n",
    "        \"file_mime\", \"ores_articletopic\", \"ores_articletopics\", \"score\", \"popularity_score\", \\\n",
    "        \"display_title\", \"auxiliary_text\", \"create_timestamp\", \"timestamp\", \"version\", \\\n",
    "        \"opening_text\", \"source_text\")"
   ]
  },
  {
   "cell_type": "code",
   "execution_count": 48,
   "metadata": {
    "tags": []
   },
   "outputs": [
    {
     "output_type": "stream",
     "name": "stdout",
     "text": [
      "+-------------------------------------------------------------------------------------------------------------------------------------------------------------------------------------------------------------------------------------------------------------------------------------------------------------------------------------------------------------------------------------------------------------------------+---------------+\n|text                                                                                                                                                                                                                                                                                                                                                                                                                     |title          |\n+-------------------------------------------------------------------------------------------------------------------------------------------------------------------------------------------------------------------------------------------------------------------------------------------------------------------------------------------------------------------------------------------------------------------------+---------------+\n|Denne norske filmrelaterte artikkelen er foreløpig kort eller mangelfull, og du kan hjelpe Wikipedia ved å utvide den. Det finnes mer utfyllende artikkel/artikler på  . Denne malen legger artikler i Kategori:Stubber 2020-12, Kategori:Norske filmstubber og avhengig av nn-parameteren også Kategori:Alternative nynorskartikler Legg gjerne ved en grunn, som første parameter: {{Norsk filmstubb|Dette er grunnen}}|Norsk filmstubb|\n+-------------------------------------------------------------------------------------------------------------------------------------------------------------------------------------------------------------------------------------------------------------------------------------------------------------------------------------------------------------------------------------------------------------------------+---------------+\n\n"
     ]
    }
   ],
   "source": [
    "filtered_df \\\n",
    "    .filter( \\\n",
    "        df[\"text\"] \\\n",
    "            .contains(\"Denne norske filmrelaterte artikkelen er foreløpig kort eller mangelfull, og du kan hjelpe Wikipedia ved å utvide den.\") \\\n",
    "        )\\\n",
    "    .show(truncate=False)"
   ]
  },
  {
   "source": [
    "The text column contained the template text, but also more. And the bottom template should show\n",
    "\n",
    "> Aktuell artikkel: Denne artikkelen omhandler en aktuell hendelse. Vær ekstra oppmerksom på at innholdet kan være utdatert eller feilaktig, og at hyppige redigeringer kan forekomme.\n",
    "\n",
    "but it is not that at all!"
   ],
   "cell_type": "markdown",
   "metadata": {}
  },
  {
   "cell_type": "code",
   "execution_count": 49,
   "metadata": {},
   "outputs": [
    {
     "output_type": "stream",
     "name": "stdout",
     "text": [
      "+-----------------------------------------------------------------------------------------------------------------------------------------------------------------------------------------------------------------------------------------------------------------------------------------------------------------------------------------------------------------------------------------------------------------------------------------------------------------------------------------------------------------------------------------------------------------------------------------------------------------------------------------------------------------------------------------------------------------------------------------------------------------------------------------------------------------------------------------------------------------------+-------+\n|text                                                                                                                                                                                                                                                                                                                                                                                                                                                                                                                                                                                                                                                                                                                                                                                                                                                                   |title  |\n+-----------------------------------------------------------------------------------------------------------------------------------------------------------------------------------------------------------------------------------------------------------------------------------------------------------------------------------------------------------------------------------------------------------------------------------------------------------------------------------------------------------------------------------------------------------------------------------------------------------------------------------------------------------------------------------------------------------------------------------------------------------------------------------------------------------------------------------------------------------------------+-------+\n|Maldokumentasjon [vis] [rediger] [historikk] [oppdater] Visste du at? Hvis du vil skrive om pågående hendelser, kan du også prøve Wikinytt. {{aktuell}} Plasseres øverst i artikkelen. Artikkelen legges automatisk i kategorien Kategori:Pågående hendelser. Hvis Wikipedia har en artikkel om en pågående hendelse som påvirker andre artikler (for eksempel et opprør i et land), kan malen benyttes i de andre artiklene som påvirkes av hendelsen. For dette skrives {{aktuell|\"angitt hendelse\"}} Om malen kun skal brukes på en seksjon, bruk parameteren |seksjon=ja. Det er ikke viktig hva som står bak likhetstegnet. Om artikkelen ikke omhandler en hendelse men heller en person el. lign., bruk parameteren |hendelsetype=person. Da byttes ordet \"hendelse\" ut med det etter likhetstegnet. Mal:Pågående Brukes på sider som omhandler et aktuelt tema.|Aktuell|\n+-----------------------------------------------------------------------------------------------------------------------------------------------------------------------------------------------------------------------------------------------------------------------------------------------------------------------------------------------------------------------------------------------------------------------------------------------------------------------------------------------------------------------------------------------------------------------------------------------------------------------------------------------------------------------------------------------------------------------------------------------------------------------------------------------------------------------------------------------------------------------+-------+\n\n"
     ]
    }
   ],
   "source": [
    "filtered_df.filter(df[\"title\"] == \"Aktuell\").show(truncate=False)"
   ]
  },
  {
   "source": [
    "# Conclusion\n",
    "\n",
    "This was hard and I give up. I'll just keep the templates in."
   ],
   "cell_type": "markdown",
   "metadata": {}
  }
 ]
}